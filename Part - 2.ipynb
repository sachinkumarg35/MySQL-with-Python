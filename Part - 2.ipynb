{
 "cells": [
  {
   "cell_type": "markdown",
   "id": "46d21b1b",
   "metadata": {},
   "source": [
    "### Creating Tables and Inserting Records"
   ]
  },
  {
   "cell_type": "code",
   "execution_count": 1,
   "id": "bc47a7c0",
   "metadata": {},
   "outputs": [
    {
     "name": "stdout",
     "output_type": "stream",
     "text": [
      "<mysql.connector.connection_cext.CMySQLConnection object at 0x000001556678F7F0>\n"
     ]
    }
   ],
   "source": [
    "### Create MySQL Connection And Connect\n",
    "import mysql.connector as sql\n",
    "\n",
    "connection = sql.connect(\n",
    "host = \"localhost\",\n",
    "user = \"root\",\n",
    "password = \"sachin1234\",\n",
    "database = \"student\"\n",
    ")\n",
    "\n",
    "print(connection)"
   ]
  },
  {
   "cell_type": "markdown",
   "id": "dd8cab1a",
   "metadata": {},
   "source": [
    "### Create Table in MySQl using Python"
   ]
  },
  {
   "cell_type": "code",
   "execution_count": 2,
   "id": "feef94fb",
   "metadata": {},
   "outputs": [],
   "source": [
    "cursor = connection.cursor()\n",
    "\n",
    "cursor.execute(\"CREATE TABLE studentinfo (id INT AUTO_INCREMENT PRIMARY KEY, name VARCHAR(255), subject VARCHAR(255))\")"
   ]
  },
  {
   "cell_type": "markdown",
   "id": "8afdaf6a",
   "metadata": {},
   "source": [
    "### Insert Records in a Table"
   ]
  },
  {
   "cell_type": "code",
   "execution_count": 3,
   "id": "482f8147",
   "metadata": {},
   "outputs": [
    {
     "name": "stdout",
     "output_type": "stream",
     "text": [
      "Row inserted 1\n"
     ]
    }
   ],
   "source": [
    "query = \"INSERT INTO studentinfo (name, subject) VALUES (%s, %s)\"\n",
    "value = (\"John\", \"Stats\")\n",
    "cursor.execute(query, value)\n",
    "print(\"Row inserted\", cursor.lastrowid)"
   ]
  },
  {
   "cell_type": "code",
   "execution_count": 7,
   "id": "9f1103dc",
   "metadata": {},
   "outputs": [
    {
     "name": "stdout",
     "output_type": "stream",
     "text": [
      "Row inserted 2\n"
     ]
    }
   ],
   "source": [
    "### Insert multiple records in table\n",
    "query = \"INSERT INTO studentinfo (name, subject) VALUES (%s, %s)\"\n",
    "values = [(\"Sachin\", \"Stats\"),\n",
    "         (\"Joe\", \"Maths\"),\n",
    "         (\"Ankur\", \"Data Science\"),\n",
    "         (\"Paul\", \"Data Science\"),\n",
    "         (\"Vishal\", \"Maths\"), \n",
    "         (\"Krish\", \"Data Science\")]\n",
    "cursor.executemany(query, values)\n",
    "print(\"Row inserted\", cursor.lastrowid)"
   ]
  },
  {
   "cell_type": "markdown",
   "id": "7a2720b7",
   "metadata": {},
   "source": [
    "### Select All"
   ]
  },
  {
   "cell_type": "code",
   "execution_count": 8,
   "id": "059cd5f1",
   "metadata": {},
   "outputs": [],
   "source": [
    "cursor = connection.cursor()\n",
    "cursor.execute(\"Select * from studentinfo\")"
   ]
  },
  {
   "cell_type": "code",
   "execution_count": 9,
   "id": "e7cebcae",
   "metadata": {},
   "outputs": [
    {
     "data": {
      "text/plain": [
       "[(1, 'John', 'Stats'),\n",
       " (2, 'Sachin', 'Stats'),\n",
       " (3, 'Joe', 'Maths'),\n",
       " (4, 'Ankur', 'Data Science'),\n",
       " (5, 'Paul', 'Data Science'),\n",
       " (6, 'Vishal', 'Maths'),\n",
       " (7, 'Krish', 'Data Science')]"
      ]
     },
     "execution_count": 9,
     "metadata": {},
     "output_type": "execute_result"
    }
   ],
   "source": [
    "### Fetch all the data\n",
    "cursor.fetchall()"
   ]
  },
  {
   "cell_type": "code",
   "execution_count": 10,
   "id": "0559ca7b",
   "metadata": {},
   "outputs": [],
   "source": [
    "### Fetch one record at a time\n",
    "cursor.fetchone()"
   ]
  },
  {
   "cell_type": "code",
   "execution_count": 11,
   "id": "0141c3fe",
   "metadata": {},
   "outputs": [],
   "source": [
    "lst = cursor.fetchall()"
   ]
  },
  {
   "cell_type": "code",
   "execution_count": 12,
   "id": "6841c255",
   "metadata": {},
   "outputs": [],
   "source": [
    "for record in lst:\n",
    "    print(record)"
   ]
  },
  {
   "cell_type": "markdown",
   "id": "a338dec9",
   "metadata": {},
   "source": [
    "### Selecting Particular Rows"
   ]
  },
  {
   "cell_type": "code",
   "execution_count": 14,
   "id": "1253bbf2",
   "metadata": {},
   "outputs": [],
   "source": [
    "cursor.execute(\"Select * from studentinfo where name = 'Sachin'\")"
   ]
  },
  {
   "cell_type": "code",
   "execution_count": 15,
   "id": "7c9212c4",
   "metadata": {},
   "outputs": [
    {
     "data": {
      "text/plain": [
       "[(2, 'Sachin', 'Stats')]"
      ]
     },
     "execution_count": 15,
     "metadata": {},
     "output_type": "execute_result"
    }
   ],
   "source": [
    "### Fecth all the data\n",
    "cursor.fetchall()"
   ]
  },
  {
   "cell_type": "markdown",
   "id": "57b505bf",
   "metadata": {},
   "source": [
    "### Select Particular columns"
   ]
  },
  {
   "cell_type": "code",
   "execution_count": 16,
   "id": "43ecaafe",
   "metadata": {},
   "outputs": [
    {
     "data": {
      "text/plain": [
       "[('Stats',),\n",
       " ('Stats',),\n",
       " ('Maths',),\n",
       " ('Data Science',),\n",
       " ('Data Science',),\n",
       " ('Maths',),\n",
       " ('Data Science',)]"
      ]
     },
     "execution_count": 16,
     "metadata": {},
     "output_type": "execute_result"
    }
   ],
   "source": [
    "cursor.execute(\"Select subject from studentinfo\")\n",
    "### Fetch all\n",
    "cursor.fetchall()"
   ]
  },
  {
   "cell_type": "code",
   "execution_count": 17,
   "id": "997749c8",
   "metadata": {},
   "outputs": [
    {
     "data": {
      "text/plain": [
       "[('Stats',), ('Maths',), ('Data Science',)]"
      ]
     },
     "execution_count": 17,
     "metadata": {},
     "output_type": "execute_result"
    }
   ],
   "source": [
    "## Select Distinct Columns\n",
    "cursor.execute(\"SELECT DISTINCT subject from studentinfo\")\n",
    "### Fetch all\n",
    "cursor.fetchall()"
   ]
  },
  {
   "cell_type": "code",
   "execution_count": 18,
   "id": "c9f02d0b",
   "metadata": {},
   "outputs": [
    {
     "data": {
      "text/plain": [
       "[('Sachin', 'Stats'),\n",
       " ('Ankur', 'Data Science'),\n",
       " ('Paul', 'Data Science'),\n",
       " ('Krish', 'Data Science')]"
      ]
     },
     "execution_count": 18,
     "metadata": {},
     "output_type": "execute_result"
    }
   ],
   "source": [
    "cursor.execute(\"SELECT name, subject FROM studentinfo WHERE name = 'Sachin' OR subject = 'Data Science'\")\n",
    "### Fetch All\n",
    "cursor.fetchall()"
   ]
  },
  {
   "cell_type": "markdown",
   "id": "6dad062d",
   "metadata": {},
   "source": [
    "### Drop Table"
   ]
  },
  {
   "cell_type": "code",
   "execution_count": 19,
   "id": "bc463d09",
   "metadata": {},
   "outputs": [],
   "source": [
    "cursor.execute(\"DROP TABLE studentinfo\")"
   ]
  },
  {
   "cell_type": "code",
   "execution_count": null,
   "id": "499fa1ac",
   "metadata": {},
   "outputs": [],
   "source": []
  }
 ],
 "metadata": {
  "kernelspec": {
   "display_name": "Python 3 (ipykernel)",
   "language": "python",
   "name": "python3"
  },
  "language_info": {
   "codemirror_mode": {
    "name": "ipython",
    "version": 3
   },
   "file_extension": ".py",
   "mimetype": "text/x-python",
   "name": "python",
   "nbconvert_exporter": "python",
   "pygments_lexer": "ipython3",
   "version": "3.10.9"
  }
 },
 "nbformat": 4,
 "nbformat_minor": 5
}
